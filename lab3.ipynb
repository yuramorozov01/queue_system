{
 "cells": [
  {
   "cell_type": "markdown",
   "metadata": {},
   "source": [
    "# Queueing theory"
   ]
  },
  {
   "cell_type": "markdown",
   "metadata": {},
   "source": [
    "### Importing modules:"
   ]
  },
  {
   "cell_type": "code",
   "execution_count": 23,
   "metadata": {},
   "outputs": [],
   "source": [
    "import numpy as np\n",
    "import matplotlib.pyplot as plt\n"
   ]
  },
  {
   "cell_type": "markdown",
   "metadata": {},
   "source": [
    "## Creating graph:"
   ]
  },
  {
   "cell_type": "markdown",
   "metadata": {},
   "source": [
    "### Initializing params: "
   ]
  },
  {
   "cell_type": "code",
   "execution_count": 24,
   "metadata": {},
   "outputs": [],
   "source": [
    "pi1 = 0.5\n",
    "pi2 = 0.7\n"
   ]
  },
  {
   "cell_type": "markdown",
   "metadata": {},
   "source": [
    "### Creating model:"
   ]
  },
  {
   "cell_type": "code",
   "execution_count": 25,
   "metadata": {},
   "outputs": [],
   "source": [
    "states = {\n",
    "    '2000': 1,\n",
    "    '1000': 2,\n",
    "    '2010': 3,\n",
    "    '1010': 4,\n",
    "    '2110': 5,\n",
    "    '1110': 6,\n",
    "    '2210': 7,\n",
    "    '1210': 8,\n",
    "    '2211': 9,\n",
    "    '1211': 10,\n",
    "    '1001': 11,\n",
    "    '2011': 12,\n",
    "    '1011': 13,\n",
    "    '2111': 14,\n",
    "    '1111': 15,\n",
    "}\n"
   ]
  },
  {
   "cell_type": "markdown",
   "metadata": {},
   "source": [
    "### Theoretical probabilities:"
   ]
  },
  {
   "cell_type": "code",
   "execution_count": 26,
   "metadata": {
    "scrolled": true
   },
   "outputs": [
    {
     "name": "stdout",
     "output_type": "stream",
     "text": [
      "P1 = 0.0000\n",
      "P2 = 0.0000\n",
      "P3 = 0.0322\n",
      "P4 = 0.0435\n",
      "P5 = 0.0420\n",
      "P6 = 0.0361\n",
      "P7 = 0.0595\n",
      "P8 = 0.0422\n",
      "P9 = 0.0831\n",
      "P10 = 0.0291\n",
      "P11 = 0.1074\n",
      "P12 = 0.1826\n",
      "P13 = 0.1352\n",
      "P14 = 0.1006\n",
      "P15 = 0.1065\n"
     ]
    }
   ],
   "source": [
    "SLE = [\n",
    "    [1, -1, 0, 0, 0, 0, 0, 0, 0, 0, 0, 0, 0, 0, 0],\n",
    "    [0, 1, -1, 0, 0, 0, 0, 0, 0, 0, 1 - pi2, 0, 0, 0, 0],\n",
    "    [0, 0, pi1, -1, 0, 0, 0, 0, 0, 0, 0, pi1 * (1 - pi2), 0, 0, 0],\n",
    "    [0, 0, 0, pi1, -1, 0, 0, 0, 0, 0, 0, 0, pi1 * (1 - pi2), 0, 0],\n",
    "    [0, 0, 0, 0, pi1, -1, 0, 0, 0, 0, 0, 0, 0, pi1 * (1 - pi2), 0],\n",
    "    [0, 0, 0, 0, 0, pi1, -1, pi1, 0, pi1 * (1 - pi2), 0, 0, 0, 0, pi1 * (1 - pi2)],\n",
    "    [0, 0, 0, 0, 0, 0, pi1, -1, pi1 * (1 - pi2), 0, 0, 0, 0, 0, 0],\n",
    "    [0, 0, 0, 0, 0, 0, 0, 1 - pi1, -1, ((1 - pi1) * (1 - pi2)) + ((1 - pi1) * pi2) + (pi1 * pi2), 0, 0, 0, 0, pi1 * pi2],\n",
    "    [0, 0, 0, 0, 0, 0, 0, 0, pi1 * pi2, -1, 0, 0, 0, 0, 0],\n",
    "    [0, 0, 1 - pi1, 0, 0, 0, 0, 0, 0, 0, -1, ((1 - pi1) * (1 - pi2)) + ((1 - pi1) * pi2), 0, 0, 0],\n",
    "    [0, 0, 0, 1 - pi1, 0, 1 - pi1, 0, 0, 0, 0, pi2, -1, ((1 - pi1) * (1 - pi2)) + ((1 - pi1) * pi2), 0, 0],\n",
    "    [0, 0, 0, 0, 1 - pi1, 0, 0, 0, 0, 0, 0, pi1 * pi2, -1, ((1 - pi1) * (1 - pi2)) + ((1 - pi1) * pi2), 0],\n",
    "    [0, 0, 0, 0, 0, 0, 0, 0, 0, 0, 0, 0, pi1 * pi2, -1, ((1 - pi1) * (1 - pi2)) + ((1 - pi1) * pi2)],\n",
    "    [0, 0, 0, 0, 0, 0, 1 - pi1, 0, ((1 - pi1) * (1 - pi2)) + ((1 - pi1) * pi2), 0, 0, 0, 0, pi1 * pi2, -1],\n",
    "    [1, 1, 1, 1, 1, 1, 1, 1, 1, 1, 1, 1, 1, 1, 1],\n",
    "]\n",
    "\n",
    "SLE_res = [\n",
    "    0,\n",
    "    0,\n",
    "    0,\n",
    "    0,\n",
    "    0,\n",
    "    0,\n",
    "    0,\n",
    "    0,\n",
    "    0,\n",
    "    0,\n",
    "    0,\n",
    "    0,\n",
    "    0,\n",
    "    0,\n",
    "    1,\n",
    "]\n",
    "\n",
    "probs = np.linalg.solve(SLE, SLE_res)\n",
    "for i, prob in enumerate(probs):\n",
    "    print('P{} = {:.4f}'.format(i + 1, prob))\n"
   ]
  },
  {
   "cell_type": "markdown",
   "metadata": {},
   "source": [
    "### Theoretical measures of efficiency:"
   ]
  },
  {
   "cell_type": "code",
   "execution_count": 36,
   "metadata": {
    "scrolled": true
   },
   "outputs": [
    {
     "name": "stdout",
     "output_type": "stream",
     "text": [
      "A = 0.22333384032647918\n",
      "Q = 0.44666768065295837\n",
      "P reject = 0.5533323193470416\n",
      "P block = 0\n",
      "L queue = 0.7129995791346052\n",
      "L system = 2.3500456293831236\n",
      "W queue = 1.5975793107129508\n",
      "W system = 6.930912644046284\n"
     ]
    }
   ],
   "source": [
    "# Абсолютная пропускная способность \n",
    "# (среднее число заявок, обслуживаемых системой в единицу времени, ...\n",
    "# ... т.е. интенсивность потока заявок на выходе системы)\n",
    "# Сумма из произведений вероятностей состояний, где заявка есть на 2 канале, ... \n",
    "# ... на вероятность обслуживания заявки на 2 канале:\n",
    "A = sum([probs[ind - 1] * int(state[3]) * (1 - pi2) for state, ind in states.items()])\n",
    "\n",
    "# Относительная пропускная способность \n",
    "# (вероятность того, что заявка, сгенерированная источником, ...\n",
    "# ... будет в конечном итоге обслужена системой):\n",
    "Q = A / 0.5\n",
    "\n",
    "# Вероятность отказа: \n",
    "P_reject = 1 - Q\n",
    "\n",
    "# Вероятность блокировки:\n",
    "P_block = 0\n",
    "\n",
    "# Средняя длина очереди:\n",
    "# Сумма произведений количеств заявок в очереди на вероятность ... \n",
    "# ... состояния с данным количеством заявок в очереди\n",
    "L_queue = sum([(int(state[1])) * probs[ind - 1] for state, ind in states.items()])\n",
    "\n",
    "# Среднее число заявок в системе:\n",
    "# Сумма из (Количество заявок в очереди + количество заявок на канале 1 + количество заявок на канале 2), ...\n",
    "# ... умноженное на вероятность состояния с данным количеством заявок в очереди, канале 1 и канале2\n",
    "L_sys = sum([(int(state[1]) + int(state[2]) + int(state[3])) * probs[ind - 1] for state, ind in states.items()])\n",
    "\n",
    "# Среднее время пребывания заявки в очереди:\n",
    "# Среднюю длину очереди поделить на интенсивность при выходе из очереди ...\n",
    "# ... (интенсивность при выходе из очереди равна интенсивности при выходе из канала 1):\n",
    "# Интенсивность при выходе из очереди рассчитывается, как сумма произведений вероятностей состояний, ...\n",
    "# ... где заявка присутствует на 1 канале, на вероятность обслуживания заявки на 1 канале:\n",
    "W_queue = L_queue / (sum([probs[ind - 1] * int(state[2]) * (1 - pi1) for state, ind in states.items()]))\n",
    "\n",
    "# Среднее время пребывания заявки в системе:\n",
    "W_sys = W_queue + 1 / (1 - pi1) + 1 / (1 - pi2)\n",
    "\n",
    "print('A = {}'.format(A))\n",
    "print('Q = {}'.format(Q))\n",
    "print('P reject = {}'.format(P_reject))\n",
    "print('P block = {}'.format(P_block))\n",
    "print('L queue = {}'.format(L_queue))\n",
    "print('L system = {}'.format(L_sys))\n",
    "print('W queue = {}'.format(W_queue))\n",
    "print('W system = {}'.format(W_sys))\n"
   ]
  },
  {
   "cell_type": "markdown",
   "metadata": {},
   "source": []
  },
  {
   "cell_type": "code",
   "execution_count": null,
   "metadata": {},
   "outputs": [],
   "source": []
  },
  {
   "cell_type": "markdown",
   "metadata": {},
   "source": []
  },
  {
   "cell_type": "code",
   "execution_count": null,
   "metadata": {},
   "outputs": [],
   "source": []
  }
 ],
 "metadata": {
  "kernelspec": {
   "display_name": "Python 3",
   "language": "python",
   "name": "python3"
  },
  "language_info": {
   "codemirror_mode": {
    "name": "ipython",
    "version": 3
   },
   "file_extension": ".py",
   "mimetype": "text/x-python",
   "name": "python",
   "nbconvert_exporter": "python",
   "pygments_lexer": "ipython3",
   "version": "3.8.5"
  }
 },
 "nbformat": 4,
 "nbformat_minor": 4
}
